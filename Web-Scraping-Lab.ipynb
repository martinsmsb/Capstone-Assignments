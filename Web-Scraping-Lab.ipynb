This contains the Web Scrapping exercise from Capstone
